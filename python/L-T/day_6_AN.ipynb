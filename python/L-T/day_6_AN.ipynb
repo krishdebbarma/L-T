{
 "cells": [
  {
   "cell_type": "code",
   "execution_count": null,
   "id": "7c0d6a5b",
   "metadata": {},
   "outputs": [],
   "source": [
    "# Pillars of OOPS\n"
   ]
  }
 ],
 "metadata": {
  "language_info": {
   "name": "python"
  }
 },
 "nbformat": 4,
 "nbformat_minor": 5
}
