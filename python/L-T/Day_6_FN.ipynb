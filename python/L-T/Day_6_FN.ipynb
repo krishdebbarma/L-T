{
 "cells": [
  {
   "cell_type": "markdown",
   "id": "26b02f77",
   "metadata": {},
   "source": [
    "# OOPs"
   ]
  },
  {
   "cell_type": "code",
   "execution_count": null,
   "id": "c6ec30bb",
   "metadata": {},
   "outputs": [
    {
     "name": "stdout",
     "output_type": "stream",
     "text": [
      "12\n",
      "Kolkata\n",
      "IST\n",
      "This clock is in Kolkata region\n",
      "This is Indian Household Time format\n"
     ]
    }
   ],
   "source": [
    "# Class can created by using class keyword\n",
    "# Syntax\n",
    "# class class_name:\n",
    "#     // Properties\n",
    "#     // Methods\n",
    "class Clock:\n",
    "    type = 12\n",
    "    region = 'Kolkata'\n",
    "    standard = \"IST\"\n",
    "    # Methods \n",
    "    # def Method_name(self,params):\n",
    "        # //code\n",
    "    def which_region(self):\n",
    "        return f\"This clock is in {Clock.region} region\"\n",
    "    def which_format(self):\n",
    "        if Clock.type == 12:\n",
    "            print(\"This is Indian Household Time format\")\n",
    "        else:\n",
    "            print(\"This is Railway Format\")\n",
    "# Object Creation\n",
    "# Object_name = class_name()\n",
    "clock = Clock()\n",
    "print(clock.type)\n",
    "print(clock.region)\n",
    "print(clock.standard)\n",
    "print(clock.which_region())\n",
    "clock.which_format()"
   ]
  },
  {
   "cell_type": "code",
   "execution_count": 14,
   "id": "eb9f1212",
   "metadata": {},
   "outputs": [
    {
     "name": "stdout",
     "output_type": "stream",
     "text": [
      "Sai\n",
      "Student name Sai and Roll is 4669\n"
     ]
    }
   ],
   "source": [
    "# Self - Sticker - its instance \n",
    "class Student:\n",
    "    name = \"Sai\"\n",
    "    roll = 4669\n",
    "    def detials(self):\n",
    "        print(f'Student name {Student.name} and Roll is {Student.roll}')\n",
    "student = Student()\n",
    "print(student.name)\n",
    "student.detials()"
   ]
  },
  {
   "cell_type": "code",
   "execution_count": 20,
   "id": "b1f1cbfe",
   "metadata": {},
   "outputs": [
    {
     "name": "stdout",
     "output_type": "stream",
     "text": [
      "Object has been created for Greetings Class\n",
      "Rakibul\n",
      "hey Rakibul Good Morning and Have a great day\n"
     ]
    }
   ],
   "source": [
    "class Greetings:\n",
    "    def __init__(self):\n",
    "        print(\"Object has been created for Greetings Class\")\n",
    "\n",
    "    name = \"Rakibul\"\n",
    "    morning = \"Have a great day\"\n",
    "    def greet_morning(self):\n",
    "        print(f\"hey {Greetings.name} Good Morning and {Greetings.morning}\")\n",
    "greet = Greetings()\n",
    "print(greet.name)\n",
    "greet.greet_morning()"
   ]
  },
  {
   "cell_type": "markdown",
   "id": "8e1e692b",
   "metadata": {},
   "source": [
    "### self\n",
    "- Sticker - Sticks to the instance\n",
    "- By using self we can access instance variables and instance methods of object.\n",
    "- like this keyword in java\n",
    "- Creates new memory for the values"
   ]
  },
  {
   "cell_type": "code",
   "execution_count": 37,
   "id": "b89e75f5",
   "metadata": {},
   "outputs": [
    {
     "name": "stdout",
     "output_type": "stream",
     "text": [
      "Jahingir object is Created\n",
      "Studnet name is Jahingir and roll  115\n",
      "ADTU\n",
      "Mamoni object is Created\n",
      "Studnet name is Mamoni and roll  68\n",
      "ADTU\n",
      "ASTU\n",
      "ASTU\n",
      "ANU\n",
      "ADTU\n",
      "ANU\n",
      "ADTU\n"
     ]
    }
   ],
   "source": [
    "class Student:\n",
    "    college = \"ADTU\"\n",
    "    def __init__(self,name,roll_number):\n",
    "        self.name = name\n",
    "        self.roll = roll_number\n",
    "        print(f\"{name} object is Created\")\n",
    "    def detials(self):\n",
    "        print(f\"Studnet name is {self.name} and roll  {self.roll}\")\n",
    "jahangir = Student(\"Jahingir\",115)\n",
    "jahangir.detials()\n",
    "print(jahangir.college)\n",
    "mamoni = Student(\"Mamoni\",68)\n",
    "mamoni.detials()\n",
    "print(mamoni.college)\n",
    "Student.college = \"ASTU\"\n",
    "print(jahangir.college)\n",
    "print(mamoni.college)\n",
    "\n",
    "jahangir.college = \"ANU\"\n",
    "mamoni.college = \"ADTU\"\n",
    "print(jahangir.college)\n",
    "print(mamoni.college)\n",
    "\n",
    "Student.college = \"Harward\"\n",
    "print(jahangir.college)\n",
    "print(mamoni.college)"
   ]
  },
  {
   "cell_type": "code",
   "execution_count": null,
   "id": "76560dae",
   "metadata": {},
   "outputs": [
    {
     "name": "stdout",
     "output_type": "stream",
     "text": [
      "number1 = 10 and number2 = 20 addition is 30 Sai\n",
      "number1 = 20 and number2 = 10 addition is 30 Naga\n",
      "Default Args\n",
      "number1 = 11 and number2 = 0 addition is 11 \n",
      "number1 = 0 and number2 = 0 addition is 0 \n",
      "Keyword args\n",
      "The Team Leader is Pramila and members are Sandeep and Angamba\n",
      "Var Args\n",
      "()\n",
      "Addition of all values is 0\n",
      "(12, 13)\n",
      "Addition of all values is 25\n",
      "(12, 14, 65, 17, 43)\n",
      "Addition of all values is 151\n",
      "{'jahangir': 115, 'Pramila': 70}\n",
      "Student name is jahangir and Roll is 115\n",
      "Student name is Pramila and Roll is 70\n"
     ]
    }
   ],
   "source": [
    "# Types of Argumets\n",
    "\n",
    "# positional\n",
    "def add(num1,num2,name):\n",
    "    print(f\"number1 = {num1} and number2 = {num2} addition is {num1+num2} {name}\")\n",
    "num1 = 10\n",
    "num2 = 20\n",
    "add(num1,num2,\"Sai\")\n",
    "add(num2,num1,\"Naga\")\n",
    "\n",
    "print(\"Default Args\")\n",
    "# Default Args\n",
    "def add2(num1 =0,num2 = 0):\n",
    "    print(f\"number1 = {num1} and number2 = {num2} addition is {num1+num2} \")\n",
    "add2(11)\n",
    "add2()\n",
    "\n",
    "# keyword Args\n",
    "print(\"Keyword args\")\n",
    "def team_detials(leader,mem1,mem2):\n",
    "    print(f\"The Team Leader is {leader} and members are {mem1} and {mem2}\")\n",
    "team_detials(mem1=\"Sandeep\",mem2=\"Angamba\",leader=\"Pramila\")\n",
    "\n",
    "# Var Args\n",
    "print(\"Var Args\")\n",
    "def adder(*vals):\n",
    "    print(vals)\n",
    "    sum = 0\n",
    "    for i in vals:\n",
    "        sum = sum+i\n",
    "    print(f'Addition of all values is {sum}')\n",
    "\n",
    "adder()\n",
    "adder(12,13)\n",
    "adder(12,14,65,17,43)\n",
    "\n",
    "# Kwargs - Variable Keyword Arguments\n",
    "def student_detials(**detials):\n",
    "    print(detials)\n",
    "    for name,roll in detials.items():\n",
    "        print(f\"Student name is {name} and Roll is {roll}\")\n",
    "student_detials(jahangir=115,Pramila=70)"
   ]
  }
 ],
 "metadata": {
  "kernelspec": {
   "display_name": "Python 3",
   "language": "python",
   "name": "python3"
  },
  "language_info": {
   "codemirror_mode": {
    "name": "ipython",
    "version": 3
   },
   "file_extension": ".py",
   "mimetype": "text/x-python",
   "name": "python",
   "nbconvert_exporter": "python",
   "pygments_lexer": "ipython3",
   "version": "3.11.5"
  }
 },
 "nbformat": 4,
 "nbformat_minor": 5
}
