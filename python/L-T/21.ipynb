{
 "cells": [
  {
   "cell_type": "code",
   "execution_count": 1,
   "id": "203ccf88",
   "metadata": {},
   "outputs": [
    {
     "name": "stdout",
     "output_type": "stream",
     "text": [
      "1 is Repeated\n",
      "5 is Repeated\n",
      "4 is Repeated\n"
     ]
    }
   ],
   "source": [
    "arr = [1,4,5,6,1,5,9,11,33,4]\n",
    "track = set()\n",
    "for i in arr:\n",
    "  if i in track:\n",
    "    print(i,\"is Repeated\")\n",
    "  else:\n",
    "    track.add(i)"
   ]
  },
  {
   "cell_type": "code",
   "execution_count": null,
   "id": "3f966156",
   "metadata": {},
   "outputs": [
    {
     "name": "stdout",
     "output_type": "stream",
     "text": [
      "{1: 'A', 2: 'B', 3: 'C', 4: 'D'}\n",
      "C\n",
      "C\n",
      "None\n",
      "{1: 'A', 2: 'B', 3: 'C', 4: 'D', 5: 'E'}\n",
      "{1: 'A', 2: 'B', 3: 'C', 4: 'D', 5: 'Elephant'}\n",
      "{1: 'A', 2: 'B', 3: 'C', 4: 'D'}\n"
     ]
    }
   ],
   "source": [
    "d = {1:\"A\",2:\"B\",3:\"C\",4:\"D\"}\n",
    "print(d)\n",
    "# Retrieving the Values \n",
    "\n",
    "print(d[3])\n",
    "print(d.get(3))\n",
    "print(d.get(99))+\n",
    "\n",
    "#print(d[3])-> Gets keyerror if  keyis not present\n",
    "#Creating the keys\n",
    "d[5] = \"E\"\n",
    "print(d)\n",
    "# Updation\n",
    "d[5] = \"Elephant\"\n",
    "print(d)\n",
    "# Deletion\n",
    "d.pop(5)\n",
    "print(d)"
   ]
  },
  {
   "cell_type": "code",
   "execution_count": null,
   "id": "ae364cfa",
   "metadata": {},
   "outputs": [
    {
     "ename": "_IncompleteInputError",
     "evalue": "incomplete input (476515641.py, line 10)",
     "output_type": "error",
     "traceback": [
      "  \u001b[36mCell\u001b[39m\u001b[36m \u001b[39m\u001b[32mIn[8]\u001b[39m\u001b[32m, line 10\u001b[39m\n\u001b[31m    \u001b[39m\u001b[31mfor i in d.keys():\u001b[39m\n                      ^\n\u001b[31m_IncompleteInputError\u001b[39m\u001b[31m:\u001b[39m incomplete input\n"
     ]
    }
   ],
   "source": [
    "# Iteration\n",
    "d = {1:\"A\",2:\"B\",3:\"C\",4:\"D\"}\n",
    "print(d.keys())\n",
    "print(d.values())\n",
    "\n",
    "# Using Simpple For Each\n",
    "print(\"Normal For Each\")\n",
    "for i in d:\n",
    "  print(i)\n",
    "print(\"For each with keys\")\n",
    "for i in d.keys():"
   ]
  },
  {
   "cell_type": "code",
   "execution_count": null,
   "id": "4ac2c0e1",
   "metadata": {},
   "outputs": [],
   "source": [
    "# Functions\n",
    "# 4 styles of functions\n",
    "# 1. Functions without paramaters and without return valves\n",
    "# 1. Functions with paramaters and without return valves\n",
    "# 1. Functions without paramaters and with return valves\n",
    "# 1. Functions with paramaters and with return valves\n",
    "\n",
    "\n"
   ]
  },
  {
   "cell_type": "code",
   "execution_count": null,
   "id": "012867e2",
   "metadata": {},
   "outputs": [],
   "source": [
    "#Functions without parameters and without return values\n",
    "\n",
    "def greeter():\n",
    "  print(\"Good Morning Sir !\")\n",
    "greeter()\n",
    "\n",
    "# Functions with parameters and without return values\n",
    "def adder(num1,num2):\n",
    "  print(f\"Addition of {num1} and {num2} is {num1+num2}\")\n",
    "  adder(10,20)\n",
    "  "
   ]
  },
  {
   "cell_type": "code",
   "execution_count": 7,
   "id": "aef480cd",
   "metadata": {},
   "outputs": [
    {
     "name": "stdout",
     "output_type": "stream",
     "text": [
      "False\n",
      "False\n",
      "True\n"
     ]
    }
   ],
   "source": [
    "def is_prime(n):\n",
    "  if n<=1:\n",
    "    return False\n",
    "  for i in range(2,(n//2)+1):\n",
    "    if n%i == 0:\n",
    "      return False\n",
    "  return True\n",
    "print(is_prime(21))\n",
    "print(is_prime(4))\n",
    "print(is_prime(997))"
   ]
  },
  {
   "cell_type": "code",
   "execution_count": 10,
   "id": "f58fa19e",
   "metadata": {},
   "outputs": [
    {
     "name": "stdout",
     "output_type": "stream",
     "text": [
      "True\n"
     ]
    }
   ],
   "source": [
    "# Function to check if a number is even\n",
    "def is_even(n):\n",
    "  if n % 2 == 0:\n",
    "    return True\n",
    "  return False\n",
    "print(is_even(4))\n"
   ]
  },
  {
   "cell_type": "code",
   "execution_count": 14,
   "id": "6d983329",
   "metadata": {},
   "outputs": [
    {
     "name": "stdout",
     "output_type": "stream",
     "text": [
      "True\n",
      "False\n"
     ]
    }
   ],
   "source": [
    "def is_palindrome(n):\n",
    "  temp = n\n",
    "  rev = 0\n",
    "  while(temp!=0):\n",
    "    rem= temp%10\n",
    "    rev = rev*10+rem\n",
    "    temp = temp//10\n",
    "  if(rev == n):\n",
    "    return True\n",
    "  return False\n",
    "print(is_palindrome(22))\n",
    "print(is_palindrome(1992))\n",
    "  \n"
   ]
  },
  {
   "cell_type": "code",
   "execution_count": 17,
   "id": "02e1bb6a",
   "metadata": {},
   "outputs": [
    {
     "name": "stdout",
     "output_type": "stream",
     "text": [
      "90\n"
     ]
    }
   ],
   "source": [
    "# Find the maximum element in the array\n",
    "def max_in_arr(arr):\n",
    "  maxi = 0\n",
    "  for i in arr:\n",
    "    if i>maxi:\n",
    "      maxi = i\n",
    "  return maxi\n",
    "arr = [11,23,52,12,54,33,18,90,15]\n",
    "print(max_in_arr(arr))"
   ]
  }
 ],
 "metadata": {
  "kernelspec": {
   "display_name": "Python 3",
   "language": "python",
   "name": "python3"
  },
  "language_info": {
   "codemirror_mode": {
    "name": "ipython",
    "version": 3
   },
   "file_extension": ".py",
   "mimetype": "text/x-python",
   "name": "python",
   "nbconvert_exporter": "python",
   "pygments_lexer": "ipython3",
   "version": "3.13.2"
  }
 },
 "nbformat": 4,
 "nbformat_minor": 5
}
