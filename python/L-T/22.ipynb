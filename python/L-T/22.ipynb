{
 "cells": [
  {
   "cell_type": "markdown",
   "id": "f06e90fa",
   "metadata": {},
   "source": [
    "Problem solving"
   ]
  },
  {
   "cell_type": "code",
   "execution_count": 1,
   "id": "bbaa22f4",
   "metadata": {},
   "outputs": [
    {
     "name": "stdout",
     "output_type": "stream",
     "text": [
      "3 is repeated\n",
      "5 is repeated\n",
      "1 is repeated\n",
      "1 is repeated\n",
      "1 is repeated\n",
      "1 is repeated\n",
      "1 is repeated\n",
      "1 is repeated\n",
      "1 is repeated\n",
      "1 is repeated\n",
      "1 is repeated\n",
      "1 is repeated\n",
      "1 is repeated\n",
      "5 is repeated\n"
     ]
    }
   ],
   "source": [
    "# Print the repeated numbers in an array\n",
    "\n",
    "def repeated(arr):\n",
    "  track = set()\n",
    "  for i in arr:\n",
    "    if i in track:\n",
    "      print(f\"{i} is repeated\")\n",
    "    else:\n",
    "      track.add(i)\n",
    "arr = [1,3,4,5,3,5,1,1,1,1,1,1,1,1,1,1,1,5]\n",
    "repeated(arr)"
   ]
  },
  {
   "cell_type": "code",
   "execution_count": 2,
   "id": "182e6ee7",
   "metadata": {},
   "outputs": [
    {
     "name": "stdout",
     "output_type": "stream",
     "text": [
      "1 is reapeated for 12 times\n",
      "3 is reapeated for 2 times\n",
      "5 is reapeated for 3 times\n"
     ]
    }
   ],
   "source": [
    "# Print the repeated elements in an array where there are multiple repeated elements in multiple\n",
    "\n",
    "def repeated(arr):\n",
    "  track = {}\n",
    "  for i in arr:\n",
    "    if i not in track:\n",
    "      track[i] = 1\n",
    "    else:\n",
    "      track[i] = track[i]+1\n",
    "  for i in track:\n",
    "    if track[i]>1:\n",
    "      print(f\"{i} is reapeated for {track[i]} times\")\n",
    "arr = [1,3,4,5,3,5,1,1,1,1,1,1,1,1,1,1,1,5]\n",
    "repeated(arr)"
   ]
  },
  {
   "cell_type": "code",
   "execution_count": 4,
   "id": "b45b9271",
   "metadata": {},
   "outputs": [
    {
     "name": "stdout",
     "output_type": "stream",
     "text": [
      "1 is most repeated\n"
     ]
    }
   ],
   "source": [
    "# Find the most repeated or frequent element in an array\n",
    "\n",
    "def repeated(arr):\n",
    "  track = {}\n",
    "  max = 0\n",
    "  max_key = 0\n",
    "  for i in arr:\n",
    "    if i not in track:\n",
    "      track[i] = 1\n",
    "    else:\n",
    "      track[i] = track[i]+1\n",
    "  for i in track:\n",
    "    if track[i]>max:\n",
    "      max = track[i]\n",
    "      max_key = i\n",
    "      print(f\"{max_key} is most repeated\")\n",
    "arr = [1,3,4,5,3,5,1,1,1,1,1,1,1,1,1,1,1,5]\n",
    "repeated(arr)"
   ]
  },
  {
   "cell_type": "code",
   "execution_count": null,
   "id": "0aed6cbc",
   "metadata": {},
   "outputs": [
    {
     "ename": "SyntaxError",
     "evalue": "cannot assign to expression here. Maybe you meant '==' instead of '='? (3459927352.py, line 14)",
     "output_type": "error",
     "traceback": [
      "  \u001b[36mCell\u001b[39m\u001b[36m \u001b[39m\u001b[32mIn[5]\u001b[39m\u001b[32m, line 14\u001b[39m\n\u001b[31m    \u001b[39m\u001b[31mif i%2 = 0:\u001b[39m\n       ^\n\u001b[31mSyntaxError\u001b[39m\u001b[31m:\u001b[39m cannot assign to expression here. Maybe you meant '==' instead of '='?\n"
     ]
    }
   ],
   "source": [
    "# Find the most repeated or frequent even element in an array\n",
    "\n",
    "def repeated(arr):\n",
    "  track = {}\n",
    "  max = 0\n",
    "  max_key = 0\n",
    "  for i in arr:\n",
    "    if i not in track:\n",
    "      track[i] = 1\n",
    "    else:\n",
    "      track[i] = track[i]+1\n",
    "  for i in track:\n",
    "    if track[i]>max:\n",
    "      if i%2 = 0:\n",
    "        max = track[i]\n",
    "        max_key = i\n",
    "      print(f\"{max_key} is most repeated\")\n",
    "arr = [1,3,4,5,3,5,1,1,1,1,1,1,1,1,1,1,1,5]\n",
    "repeated(arr)"
   ]
  },
  {
   "cell_type": "markdown",
   "id": "3944f09b",
   "metadata": {},
   "source": [
    "# Recursion\n",
    "- function calling itself\n",
    "- works on the principle of breaking the huge problem into smaller subproblems\n",
    "- It is a Rubber band \n",
    "- Every recursive call has 2 components -\n",
    "  1. Base case or stopping case - Stops the recursive calls\n",
    "  2. Return statements - returns"
   ]
  },
  {
   "cell_type": "code",
   "execution_count": 6,
   "id": "2e429361",
   "metadata": {},
   "outputs": [
    {
     "name": "stdout",
     "output_type": "stream",
     "text": [
      "5\n",
      "4\n",
      "3\n",
      "2\n",
      "1\n",
      "krish\n"
     ]
    }
   ],
   "source": [
    "def fun(n):\n",
    "  if n<=0:\n",
    "    return\"krish\"\n",
    "  print(n)\n",
    "  return fun (n-1)\n",
    "print(fun(5))"
   ]
  },
  {
   "cell_type": "code",
   "execution_count": null,
   "id": "83b45e43",
   "metadata": {},
   "outputs": [
    {
     "name": "stdout",
     "output_type": "stream",
     "text": [
      "720\n"
     ]
    }
   ],
   "source": [
    "# Factorial \n",
    "# 5! = 1x2x3x4x5\n",
    "# 5! = 5x4x3x2x1 = 120\n",
    "# 5! = 5 x 4!\n",
    "# 4! = 4 x 3!\n",
    "# 3! = 3 x 2!\n",
    "# 2! = 2 x 1!\n",
    "# 1! = 1\n",
    "\n",
    "def factorial(n):\n",
    "  if n<=1:\n",
    "    return 1\n",
    "  return n*factorial(n-1)\n",
    "print(factorial(6))"
   ]
  },
  {
   "cell_type": "code",
   "execution_count": 8,
   "id": "9ddeb60e",
   "metadata": {},
   "outputs": [
    {
     "name": "stdout",
     "output_type": "stream",
     "text": [
      "8\n"
     ]
    }
   ],
   "source": [
    "# Fibonacci Sequence\n",
    "# 1,1,2,3,4,8,13,31,....\n",
    "\n",
    "def fib(n):\n",
    "  if n<=1:\n",
    "    return n\n",
    "  return fib(n-1)+fib(n-2)\n",
    "print(fib(6))"
   ]
  }
 ],
 "metadata": {
  "kernelspec": {
   "display_name": "Python 3",
   "language": "python",
   "name": "python3"
  },
  "language_info": {
   "codemirror_mode": {
    "name": "ipython",
    "version": 3
   },
   "file_extension": ".py",
   "mimetype": "text/x-python",
   "name": "python",
   "nbconvert_exporter": "python",
   "pygments_lexer": "ipython3",
   "version": "3.13.2"
  }
 },
 "nbformat": 4,
 "nbformat_minor": 5
}
